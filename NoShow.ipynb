{
  "cells": [
    {
      "cell_type": "code",
      "execution_count": null,
      "metadata": {
        "colab": {
          "base_uri": "https://localhost:8080/"
        },
        "id": "u29gkDoCId_j",
        "outputId": "dde56653-ceef-41ab-d537-32eca71906dd"
      },
      "outputs": [
        {
          "output_type": "stream",
          "name": "stdout",
          "text": [
            "Archive:  archive (5).zip\n",
            "  inflating: KaggleV2-May-2016.csv   \n"
          ]
        }
      ],
      "source": [
        "!unzip archive\\ \\(5\\).zip"
      ]
    },
    {
      "cell_type": "code",
      "execution_count": null,
      "metadata": {
        "id": "Lm1SYQrJI1Rj",
        "colab": {
          "base_uri": "https://localhost:8080/"
        },
        "outputId": "3fc9e0f9-61f3-42e6-be47-1461db4203d4"
      },
      "outputs": [
        {
          "output_type": "stream",
          "name": "stdout",
          "text": [
            "The autoreload extension is already loaded. To reload it, use:\n",
            "  %reload_ext autoreload\n"
          ]
        }
      ],
      "source": [
        "%load_ext autoreload\n",
        "%autoreload 2\n",
        "%matplotlib inline"
      ]
    },
    {
      "cell_type": "code",
      "execution_count": null,
      "metadata": {
        "id": "M7WOcq_aI1ON"
      },
      "outputs": [],
      "source": [
        "import warnings\n",
        "from sklearn.exceptions import DataConversionWarning\n",
        "warnings.filterwarnings(action='ignore', category=DataConversionWarning)\n",
        "warnings.filterwarnings(action='ignore', category=FutureWarning)"
      ]
    },
    {
      "cell_type": "code",
      "execution_count": null,
      "metadata": {
        "id": "Buec1fdyI1Ks"
      },
      "outputs": [],
      "source": [
        "import pandas as pd\n",
        "import numpy as np\n",
        "import matplotlib.pyplot as plt\n",
        "from seaborn import lmplot, stripplot\n",
        "\n",
        "from sklearn.model_selection import train_test_split\n",
        "\n",
        "from sklearn.compose import ColumnTransformer\n",
        "from sklearn.pipeline import Pipeline\n",
        "\n",
        "from sklearn.preprocessing import LabelEncoder\n",
        "from sklearn.preprocessing import StandardScaler\n",
        "from sklearn.preprocessing import OneHotEncoder\n",
        "from sklearn.impute import SimpleImputer\n",
        "from sklearn.model_selection import cross_validate\n",
        "\n",
        "from sklearn.metrics import classification_report, confusion_matrix\n",
        "\n",
        "from sklearn.base import BaseEstimator, TransformerMixin\n",
        "\n",
        "from sklearn.linear_model import LogisticRegression\n",
        "from sklearn.neighbors import KNeighborsClassifier\n",
        "\n",
        "from sklearn.model_selection import GridSearchCV\n",
        "\n",
        "from sklearn.tree import DecisionTreeClassifier, plot_tree\n",
        "from sklearn.ensemble import RandomForestClassifier\n",
        "\n",
        "from sklearn.metrics import accuracy_score\n",
        "from sklearn.dummy import DummyClassifier\n",
        "from sklearn.metrics import accuracy_score\n",
        "\n",
        "from tensorflow.keras.wrappers.scikit_learn import KerasClassifier\n",
        "from tensorflow.keras.models import Sequential\n",
        "from tensorflow.keras.layers import Dense\n",
        "from tensorflow.keras.layers import Dropout\n",
        "from tensorflow.keras.optimizers import SGD\n",
        "\n",
        "from time import time\n",
        "from joblib import dump\n",
        "from datetime import datetime\n",
        "from tqdm import tqdm\n",
        "\n",
        "from imblearn.over_sampling import SMOTE\n",
        "from imblearn.under_sampling import RandomUnderSampler\n",
        "import seaborn as sns\n",
        "sns.set_style(\"whitegrid\")\n"
      ]
    },
    {
      "cell_type": "markdown",
      "metadata": {
        "id": "lsr2EWmYJF14"
      },
      "source": [
        "<h2> Read in Data </h3>\n",
        "\n",
        "<ul>\n",
        "    <li>Read the data in from the CSV </li>\n",
        "    <li> Shuffle the data. This removes any ordering that may interfere with us later</li>\n",
        "    <li> We have edited the dataframe so reset the index </li>\n",
        "</ul>"
      ]
    },
    {
      "cell_type": "code",
      "execution_count": null,
      "metadata": {
        "id": "fLOSlzlkI1Ej"
      },
      "outputs": [],
      "source": [
        "# Use pandas to read the CSV file into a DataFrame\n",
        "df = pd.read_csv(\"KaggleV2-May-2016.csv\")\n",
        "\n",
        "# Shuffle the dataset\n",
        "df = df.sample(frac=1, random_state=123)\n",
        "df.reset_index(drop=True, inplace=True)"
      ]
    },
    {
      "cell_type": "markdown",
      "metadata": {
        "id": "qXMdJOqeJRvJ"
      },
      "source": [
        "<h3> Examine the data </h3>\n",
        "<h4> Datatypes </h4>\n",
        "View the datatypes and see if anything looks fishy. <br>\n",
        "Gender, ScheduledDay, AppoinmentDat, Neighbourhood and No-Show are objects. This makes sense as they are likley of type String."
      ]
    },
    {
      "cell_type": "code",
      "execution_count": null,
      "metadata": {
        "colab": {
          "base_uri": "https://localhost:8080/"
        },
        "id": "S5rq0b6UI1BC",
        "outputId": "b5cce9a7-eb54-48b2-9892-50a074a8132e"
      },
      "outputs": [
        {
          "output_type": "execute_result",
          "data": {
            "text/plain": [
              "PatientId         float64\n",
              "AppointmentID       int64\n",
              "Gender             object\n",
              "ScheduledDay       object\n",
              "AppointmentDay     object\n",
              "Age                 int64\n",
              "Neighbourhood      object\n",
              "Scholarship         int64\n",
              "Hipertension        int64\n",
              "Diabetes            int64\n",
              "Alcoholism          int64\n",
              "Handcap             int64\n",
              "SMS_received        int64\n",
              "No-show            object\n",
              "dtype: object"
            ]
          },
          "metadata": {},
          "execution_count": 4
        }
      ],
      "source": [
        "df.dtypes"
      ]
    },
    {
      "cell_type": "markdown",
      "source": [
        "## Remove Invalid Data"
      ],
      "metadata": {
        "id": "qwWTHCaPVcu-"
      }
    },
    {
      "cell_type": "markdown",
      "metadata": {
        "id": "dz4cJA-uKXhb"
      },
      "source": [
        "The min age is -1. This is not possible."
      ]
    },
    {
      "cell_type": "code",
      "source": [
        "print(f\"Min Age: { min(df['Age'].unique()) }. Max Age: { max(df['Age'].unique()) }\")"
      ],
      "metadata": {
        "colab": {
          "base_uri": "https://localhost:8080/"
        },
        "id": "yBzq_ODSrCnR",
        "outputId": "133e324c-037a-4d92-bd96-0b9bf3f5d90e"
      },
      "execution_count": null,
      "outputs": [
        {
          "output_type": "stream",
          "name": "stdout",
          "text": [
            "Min Age: -1. Max Age: 115\n"
          ]
        }
      ]
    },
    {
      "cell_type": "markdown",
      "source": [
        "Let's remove any entery with an age of less than 0 or greater than 100."
      ],
      "metadata": {
        "id": "bfPZY1qdrRzZ"
      }
    },
    {
      "cell_type": "code",
      "source": [
        "df = df[(df['Age'] >= 0) & (df['Age'] <= 100)]"
      ],
      "metadata": {
        "id": "g0PjxO4ArCh0"
      },
      "execution_count": null,
      "outputs": []
    },
    {
      "cell_type": "markdown",
      "source": [
        "Let's take a look to see if there are any NaNs or outliers in the other columns."
      ],
      "metadata": {
        "id": "k3I1E3MyrcWt"
      }
    },
    {
      "cell_type": "code",
      "source": [
        "print(f\"Min: { min(df['Gender'].unique()) }. Max: { max(df['Gender'].unique()) }. Uniuqe Values: { df['Gender'].unique() }\")\n",
        "print(f\"Min: { min(df['ScheduledDay'].unique()) }. Max: { max(df['ScheduledDay'].unique()) }. Uniuqe Values: { df['ScheduledDay'].unique() }\")\n",
        "print(f\"Min: { min(df['AppointmentDay'].unique()) }. Max: { max(df['AppointmentDay'].unique()) }. Uniuqe Values: { df['AppointmentDay'].unique() }\")\n",
        "print(f\"Min: { min(df['No-show'].unique()) }. Max: { max(df['No-show'].unique()) }. Uniuqe Values: { df['No-show'].unique() }\")\n",
        "print(f\"Min: { min(df['Diabetes'].unique()) }. Max: { max(df['Diabetes'].unique()) }. Uniuqe Values: { df['Diabetes'].unique() }\")\n",
        "print(f\"Min: { min(df['Alcoholism'].unique()) }. Max: { max(df['Alcoholism'].unique()) }. Uniuqe Values: { df['Alcoholism'].unique() }\")\n",
        "print(f\"Min: { min(df['Hipertension'].unique()) }. Max: { max(df['Hipertension'].unique()) }. Uniuqe Values: { df['Hipertension'].unique() }\")\n",
        "print(f\"Min: { min(df['Handcap'].unique()) }. Max: { max(df['Handcap'].unique()) }. Uniuqe Values: { df['Handcap'].unique() }\")\n",
        "print(f\"Min: { min(df['Scholarship'].unique()) }. Max: { max(df['Scholarship'].unique()) }. Uniuqe Values: { df['Scholarship'].unique() }\")\n",
        "print(f\"Min: { min(df['SMS_received'].unique()) }. Max: { max(df['SMS_received'].unique()) }. Uniuqe Values: { df['SMS_received'].unique() }\")"
      ],
      "metadata": {
        "colab": {
          "base_uri": "https://localhost:8080/"
        },
        "id": "3gps9i-BrCe1",
        "outputId": "043c8561-7680-45f9-8f98-793dc065c810"
      },
      "execution_count": null,
      "outputs": [
        {
          "output_type": "stream",
          "name": "stdout",
          "text": [
            "Min: F. Max: M. Uniuqe Values: ['M' 'F']\n",
            "Min: 2015-11-10T07:13:56Z. Max: 2016-06-08T20:07:23Z. Uniuqe Values: ['2016-05-13T09:51:06Z' '2016-05-11T08:05:20Z' '2016-05-20T09:07:02Z' ...\n",
            " '2016-05-17T11:42:54Z' '2016-05-13T10:40:25Z' '2016-05-12T09:30:54Z']\n",
            "Min: 2016-04-29T00:00:00Z. Max: 2016-06-08T00:00:00Z. Uniuqe Values: ['2016-05-16T00:00:00Z' '2016-05-11T00:00:00Z' '2016-05-20T00:00:00Z'\n",
            " '2016-05-04T00:00:00Z' '2016-06-03T00:00:00Z' '2016-05-03T00:00:00Z'\n",
            " '2016-06-07T00:00:00Z' '2016-05-05T00:00:00Z' '2016-05-06T00:00:00Z'\n",
            " '2016-05-09T00:00:00Z' '2016-05-30T00:00:00Z' '2016-04-29T00:00:00Z'\n",
            " '2016-05-02T00:00:00Z' '2016-05-12T00:00:00Z' '2016-06-02T00:00:00Z'\n",
            " '2016-05-25T00:00:00Z' '2016-05-13T00:00:00Z' '2016-05-31T00:00:00Z'\n",
            " '2016-06-06T00:00:00Z' '2016-05-19T00:00:00Z' '2016-06-01T00:00:00Z'\n",
            " '2016-06-08T00:00:00Z' '2016-05-17T00:00:00Z' '2016-05-24T00:00:00Z'\n",
            " '2016-05-18T00:00:00Z' '2016-05-10T00:00:00Z' '2016-05-14T00:00:00Z']\n",
            "Min: No. Max: Yes. Uniuqe Values: ['Yes' 'No']\n",
            "Min: 0. Max: 1. Uniuqe Values: [1 0]\n",
            "Min: 0. Max: 1. Uniuqe Values: [0 1]\n",
            "Min: 0. Max: 1. Uniuqe Values: [1 0]\n",
            "Min: 0. Max: 4. Uniuqe Values: [0 1 3 2 4]\n",
            "Min: 0. Max: 1. Uniuqe Values: [0 1]\n",
            "Min: 0. Max: 1. Uniuqe Values: [0 1]\n"
          ]
        }
      ]
    },
    {
      "cell_type": "code",
      "source": [
        "sns.stripplot(data = df, y = 'Age', jitter = True)\n",
        "plt.show()"
      ],
      "metadata": {
        "colab": {
          "base_uri": "https://localhost:8080/",
          "height": 406
        },
        "id": "Lp0z9udCrCcM",
        "outputId": "23a1daca-7034-41ec-ff61-a4e6f6894065"
      },
      "execution_count": null,
      "outputs": [
        {
          "output_type": "display_data",
          "data": {
            "text/plain": [
              "<Figure size 640x480 with 1 Axes>"
            ],
            "image/png": "[encoded data removed]"
          },
          "metadata": {}
        }
      ]
    },
    {
      "cell_type": "markdown",
      "source": [
        "# Feature Engineering\n",
        "\n",
        "Both `ScheduledDay` and `AppointmentDay` are useless on their own but we can create some usefull features out of it. Such as day of regstering and day of appointment. Hour of registering and hour of appointment. Finally duration between booking and the appoinment."
      ],
      "metadata": {
        "id": "q1QceUPOtimi"
      }
    },
    {
      "cell_type": "code",
      "source": [
        "def date_to_day_of_week(date):\n",
        "  if type(date) != str:\n",
        "    return -1\n",
        "  date = datetime.strptime(date, '%Y-%m-%dT%H:%M:%SZ')\n",
        "  return date.weekday()\n",
        "\n",
        "def date_to_hour(date):\n",
        "  if type(date) != str:\n",
        "    return -1\n",
        "  date = datetime.strptime(date, '%Y-%m-%dT%H:%M:%SZ')\n",
        "  return date.hour\n",
        "\n",
        "def minutes_between_dates(date1, date2):\n",
        "  date1 = datetime.strptime(date1, '%Y-%m-%dT%H:%M:%SZ')\n",
        "  date2 = datetime.strptime(date2, '%Y-%m-%dT%H:%M:%SZ')\n",
        "  return (date2 - date1).total_seconds() // 60"
      ],
      "metadata": {
        "id": "MCmS609nrCZY"
      },
      "execution_count": null,
      "outputs": []
    },
    {
      "cell_type": "code",
      "source": [
        "df['RegistrationDay'] = df['ScheduledDay'].apply(date_to_day_of_week)\n",
        "df['AppointmentDayofWeek'] = df['AppointmentDay'].apply(date_to_day_of_week)\n",
        "df['RegistrationHour'] = df['ScheduledDay'].apply(date_to_hour)\n",
        "\n",
        "df['MinutesToAppoinment'] = df.apply(lambda row: minutes_between_dates(row['ScheduledDay'], row['AppointmentDay']), axis=1)"
      ],
      "metadata": {
        "id": "kSEf5oKhrCWv"
      },
      "execution_count": null,
      "outputs": []
    },
    {
      "cell_type": "markdown",
      "source": [
        "### Check outliers with our new features\n",
        "\n",
        "`RegistrationDay` being 5(Saturday) is an outlier"
      ],
      "metadata": {
        "id": "ghs_A0DIupX4"
      }
    },
    {
      "cell_type": "code",
      "source": [
        "sns.stripplot(data = df, y = 'RegistrationDay', jitter = True)\n",
        "plt.show()\n",
        "df = df[df['RegistrationDay'] < 5]"
      ],
      "metadata": {
        "colab": {
          "base_uri": "https://localhost:8080/",
          "height": 406
        },
        "id": "xRDO3vvCrCTx",
        "outputId": "871a49fb-20e0-40df-b134-84d2504f8682"
      },
      "execution_count": null,
      "outputs": [
        {
          "output_type": "display_data",
          "data": {
            "text/plain": [
              "<Figure size 640x480 with 1 Axes>"
            ],
            "image/png": "[encoded data removed]"
          },
          "metadata": {}
        }
      ]
    },
    {
      "cell_type": "code",
      "source": [
        "sns.stripplot(data = df, y = 'AppointmentDayofWeek', jitter = True)\n",
        "plt.show()\n",
        "df = df[df['AppointmentDayofWeek'] < 5]"
      ],
      "metadata": {
        "colab": {
          "base_uri": "https://localhost:8080/",
          "height": 406
        },
        "id": "74_aGlQQvTB-",
        "outputId": "fda6d734-8a6b-4557-bf2f-cd118a0eab2b"
      },
      "execution_count": null,
      "outputs": [
        {
          "output_type": "display_data",
          "data": {
            "text/plain": [
              "<Figure size 640x480 with 1 Axes>"
            ],
            "image/png": "[encoded data removed]"
          },
          "metadata": {}
        }
      ]
    },
    {
      "cell_type": "markdown",
      "source": [
        "`RegistrationHour` after 20:00 has a clear drop off."
      ],
      "metadata": {
        "id": "pzXNmRB4u5Yk"
      }
    },
    {
      "cell_type": "code",
      "source": [
        "sns.stripplot(data = df, y = 'RegistrationHour', jitter = True)\n",
        "plt.show()\n",
        "df = df[(df['RegistrationHour'] <= 20)]"
      ],
      "metadata": {
        "colab": {
          "base_uri": "https://localhost:8080/",
          "height": 406
        },
        "id": "QFbxGd-ku3PY",
        "outputId": "0713e1a9-9cf7-459c-86da-b553eb8c3160"
      },
      "execution_count": null,
      "outputs": [
        {
          "output_type": "display_data",
          "data": {
            "text/plain": [
              "<Figure size 640x480 with 1 Axes>"
            ],
            "image/png": "[encoded data removed]"
          },
          "metadata": {}
        }
      ]
    },
    {
      "cell_type": "code",
      "source": [
        "sns.stripplot(data = df, y = 'MinutesToAppoinment', jitter = True)\n",
        "plt.show()\n",
        "df = df[(df['MinutesToAppoinment'] <=150000) & (df['MinutesToAppoinment'] > 0)]\n"
      ],
      "metadata": {
        "colab": {
          "base_uri": "https://localhost:8080/",
          "height": 406
        },
        "id": "TmJ9Cq-qu3Hp",
        "outputId": "0ccda69a-7c1a-41a3-8384-1f207519028c"
      },
      "execution_count": null,
      "outputs": [
        {
          "output_type": "display_data",
          "data": {
            "text/plain": [
              "<Figure size 640x480 with 1 Axes>"
            ],
            "image/png": "[encoded data removed]"
          },
          "metadata": {}
        }
      ]
    },
    {
      "cell_type": "markdown",
      "source": [
        "## Encoding, Scaling and Such"
      ],
      "metadata": {
        "id": "WQAZwEVzv9n9"
      }
    },
    {
      "cell_type": "code",
      "source": [
        "df.head()"
      ],
      "metadata": {
        "colab": {
          "base_uri": "https://localhost:8080/",
          "height": 374
        },
        "id": "Be1bQOAUu3FD",
        "outputId": "aa16d00c-0011-4ebe-bba4-49903ea87e6a"
      },
      "execution_count": null,
      "outputs": [
        {
          "output_type": "execute_result",
          "data": {
            "text/plain": [
              "      PatientId  AppointmentID Gender          ScheduledDay  \\\n",
              "0  8.523459e+13        5695263      M  2016-05-13T09:51:06Z   \n",
              "3  6.245924e+13        5619919      M  2016-04-26T08:28:06Z   \n",
              "4  8.996231e+13        5764117      F  2016-06-02T09:51:32Z   \n",
              "7  2.212167e+12        5689672      F  2016-05-12T08:49:27Z   \n",
              "8  4.799578e+14        5728425      F  2016-05-20T16:24:30Z   \n",
              "\n",
              "         AppointmentDay  Age  Neighbourhood  Scholarship  Hipertension  \\\n",
              "0  2016-05-16T00:00:00Z   73        ITARARÉ            0             1   \n",
              "3  2016-05-04T00:00:00Z   48     ANDORINHAS            0             0   \n",
              "4  2016-06-03T00:00:00Z   15         BONFIM            0             0   \n",
              "7  2016-05-16T00:00:00Z   47          HORTO            0             0   \n",
              "8  2016-06-07T00:00:00Z   49  MATA DA PRAIA            0             0   \n",
              "\n",
              "   Diabetes  Alcoholism  Handcap  SMS_received No-show  RegistrationDay  \\\n",
              "0         1           0        0             0     Yes                4   \n",
              "3         0           0        0             1     Yes                1   \n",
              "4         0           0        0             0     Yes                3   \n",
              "7         0           0        0             0     Yes                3   \n",
              "8         0           0        0             1      No                4   \n",
              "\n",
              "   AppointmentDayofWeek  RegistrationHour  MinutesToAppoinment  \n",
              "0                     0                 9               3728.0  \n",
              "3                     2                 8              11011.0  \n",
              "4                     4                 9                848.0  \n",
              "7                     0                 8               5230.0  \n",
              "8                     1                16              24935.0  "
            ],
            "text/html": [
              "\n",
              "  <div id=\"df-1935131d-f233-4bea-8453-189719fb91a3\">\n",
              "    <div class=\"colab-df-container\">\n",
              "      <div>\n",
              "<style scoped>\n",
              "    .dataframe tbody tr th:only-of-type {\n",
              "        vertical-align: middle;\n",
              "    }\n",
              "\n",
              "    .dataframe tbody tr th {\n",
              "        vertical-align: top;\n",
              "    }\n",
              "\n",
              "    .dataframe thead th {\n",
              "        text-align: right;\n",
              "    }\n",
              "</style>\n",
              "<table border=\"1\" class=\"dataframe\">\n",
              "  <thead>\n",
              "    <tr style=\"text-align: right;\">\n",
              "      <th></th>\n",
              "      <th>PatientId</th>\n",
              "      <th>AppointmentID</th>\n",
              "      <th>Gender</th>\n",
              "      <th>ScheduledDay</th>\n",
              "      <th>AppointmentDay</th>\n",
              "      <th>Age</th>\n",
              "      <th>Neighbourhood</th>\n",
              "      <th>Scholarship</th>\n",
              "      <th>Hipertension</th>\n",
              "      <th>Diabetes</th>\n",
              "      <th>Alcoholism</th>\n",
              "      <th>Handcap</th>\n",
              "      <th>SMS_received</th>\n",
              "      <th>No-show</th>\n",
              "      <th>RegistrationDay</th>\n",
              "      <th>AppointmentDayofWeek</th>\n",
              "      <th>RegistrationHour</th>\n",
              "      <th>MinutesToAppoinment</th>\n",
              "    </tr>\n",
              "  </thead>\n",
              "  <tbody>\n",
              "    <tr>\n",
              "      <th>0</th>\n",
              "      <td>8.523459e+13</td>\n",
              "      <td>5695263</td>\n",
              "      <td>M</td>\n",
              "      <td>2016-05-13T09:51:06Z</td>\n",
              "      <td>2016-05-16T00:00:00Z</td>\n",
              "      <td>73</td>\n",
              "      <td>ITARARÉ</td>\n",
              "      <td>0</td>\n",
              "      <td>1</td>\n",
              "      <td>1</td>\n",
              "      <td>0</td>\n",
              "      <td>0</td>\n",
              "      <td>0</td>\n",
              "      <td>Yes</td>\n",
              "      <td>4</td>\n",
              "      <td>0</td>\n",
              "      <td>9</td>\n",
              "      <td>3728.0</td>\n",
              "    </tr>\n",
              "    <tr>\n",
              "      <th>3</th>\n",
              "      <td>6.245924e+13</td>\n",
              "      <td>5619919</td>\n",
              "      <td>M</td>\n",
              "      <td>2016-04-26T08:28:06Z</td>\n",
              "      <td>2016-05-04T00:00:00Z</td>\n",
              "      <td>48</td>\n",
              "      <td>ANDORINHAS</td>\n",
              "      <td>0</td>\n",
              "      <td>0</td>\n",
              "      <td>0</td>\n",
              "      <td>0</td>\n",
              "      <td>0</td>\n",
              "      <td>1</td>\n",
              "      <td>Yes</td>\n",
              "      <td>1</td>\n",
              "      <td>2</td>\n",
              "      <td>8</td>\n",
              "      <td>11011.0</td>\n",
              "    </tr>\n",
              "    <tr>\n",
              "      <th>4</th>\n",
              "      <td>8.996231e+13</td>\n",
              "      <td>5764117</td>\n",
              "      <td>F</td>\n",
              "      <td>2016-06-02T09:51:32Z</td>\n",
              "      <td>2016-06-03T00:00:00Z</td>\n",
              "      <td>15</td>\n",
              "      <td>BONFIM</td>\n",
              "      <td>0</td>\n",
              "      <td>0</td>\n",
              "      <td>0</td>\n",
              "      <td>0</td>\n",
              "      <td>0</td>\n",
              "      <td>0</td>\n",
              "      <td>Yes</td>\n",
              "      <td>3</td>\n",
              "      <td>4</td>\n",
              "      <td>9</td>\n",
              "      <td>848.0</td>\n",
              "    </tr>\n",
              "    <tr>\n",
              "      <th>7</th>\n",
              "      <td>2.212167e+12</td>\n",
              "      <td>5689672</td>\n",
              "      <td>F</td>\n",
              "      <td>2016-05-12T08:49:27Z</td>\n",
              "      <td>2016-05-16T00:00:00Z</td>\n",
              "      <td>47</td>\n",
              "      <td>HORTO</td>\n",
              "      <td>0</td>\n",
              "      <td>0</td>\n",
              "      <td>0</td>\n",
              "      <td>0</td>\n",
              "      <td>0</td>\n",
              "      <td>0</td>\n",
              "      <td>Yes</td>\n",
              "      <td>3</td>\n",
              "      <td>0</td>\n",
              "      <td>8</td>\n",
              "      <td>5230.0</td>\n",
              "    </tr>\n",
              "    <tr>\n",
              "      <th>8</th>\n",
              "      <td>4.799578e+14</td>\n",
              "      <td>5728425</td>\n",
              "      <td>F</td>\n",
              "      <td>2016-05-20T16:24:30Z</td>\n",
              "      <td>2016-06-07T00:00:00Z</td>\n",
              "      <td>49</td>\n",
              "      <td>MATA DA PRAIA</td>\n",
              "      <td>0</td>\n",
              "      <td>0</td>\n",
              "      <td>0</td>\n",
              "      <td>0</td>\n",
              "      <td>0</td>\n",
              "      <td>1</td>\n",
              "      <td>No</td>\n",
              "      <td>4</td>\n",
              "      <td>1</td>\n",
              "      <td>16</td>\n",
              "      <td>24935.0</td>\n",
              "    </tr>\n",
              "  </tbody>\n",
              "</table>\n",
              "</div>\n",
              "      <button class=\"colab-df-convert\" onclick=\"convertToInteractive('df-1935131d-f233-4bea-8453-189719fb91a3')\"\n",
              "              title=\"Convert this dataframe to an interactive table.\"\n",
              "              style=\"display:none;\">\n",
              "        \n",
              "  <svg xmlns=\"http://www.w3.org/2000/svg\" height=\"24px\"viewBox=\"0 0 24 24\"\n",
              "       width=\"24px\">\n",
              "    <path d=\"M0 0h24v24H0V0z\" fill=\"none\"/>\n",
              "    <path d=\"M18.56 5.44l.94 2.06.94-2.06 2.06-.94-2.06-.94-.94-2.06-.94 2.06-2.06.94zm-11 1L8.5 8.5l.94-2.06 2.06-.94-2.06-.94L8.5 2.5l-.94 2.06-2.06.94zm10 10l.94 2.06.94-2.06 2.06-.94-2.06-.94-.94-2.06-.94 2.06-2.06.94z\"/><path d=\"M17.41 7.96l-1.37-1.37c-.4-.4-.92-.59-1.43-.59-.52 0-1.04.2-1.43.59L10.3 9.45l-7.72 7.72c-.78.78-.78 2.05 0 2.83L4 21.41c.39.39.9.59 1.41.59.51 0 1.02-.2 1.41-.59l7.78-7.78 2.81-2.81c.8-.78.8-2.07 0-2.86zM5.41 20L4 18.59l7.72-7.72 1.47 1.35L5.41 20z\"/>\n",
              "  </svg>\n",
              "      </button>\n",
              "      \n",
              "  <style>\n",
              "    .colab-df-container {\n",
              "      display:flex;\n",
              "      flex-wrap:wrap;\n",
              "      gap: 12px;\n",
              "    }\n",
              "\n",
              "    .colab-df-convert {\n",
              "      background-color: #E8F0FE;\n",
              "      border: none;\n",
              "      border-radius: 50%;\n",
              "      cursor: pointer;\n",
              "      display: none;\n",
              "      fill: #1967D2;\n",
              "      height: 32px;\n",
              "      padding: 0 0 0 0;\n",
              "      width: 32px;\n",
              "    }\n",
              "\n",
              "    .colab-df-convert:hover {\n",
              "      background-color: #E2EBFA;\n",
              "      box-shadow: 0px 1px 2px rgba(60, 64, 67, 0.3), 0px 1px 3px 1px rgba(60, 64, 67, 0.15);\n",
              "      fill: #174EA6;\n",
              "    }\n",
              "\n",
              "    [theme=dark] .colab-df-convert {\n",
              "      background-color: #3B4455;\n",
              "      fill: #D2E3FC;\n",
              "    }\n",
              "\n",
              "    [theme=dark] .colab-df-convert:hover {\n",
              "      background-color: #434B5C;\n",
              "      box-shadow: 0px 1px 3px 1px rgba(0, 0, 0, 0.15);\n",
              "      filter: drop-shadow(0px 1px 2px rgba(0, 0, 0, 0.3));\n",
              "      fill: #FFFFFF;\n",
              "    }\n",
              "  </style>\n",
              "\n",
              "      <script>\n",
              "        const buttonEl =\n",
              "          document.querySelector('#df-1935131d-f233-4bea-8453-189719fb91a3 button.colab-df-convert');\n",
              "        buttonEl.style.display =\n",
              "          google.colab.kernel.accessAllowed ? 'block' : 'none';\n",
              "\n",
              "        async function convertToInteractive(key) {\n",
              "          const element = document.querySelector('#df-1935131d-f233-4bea-8453-189719fb91a3');\n",
              "          const dataTable =\n",
              "            await google.colab.kernel.invokeFunction('convertToInteractive',\n",
              "                                                     [key], {});\n",
              "          if (!dataTable) return;\n",
              "\n",
              "          const docLinkHtml = 'Like what you see? Visit the ' +\n",
              "            '<a target=\"_blank\" href=https://colab.research.google.com/notebooks/data_table.ipynb>data table notebook</a>'\n",
              "            + ' to learn more about interactive tables.';\n",
              "          element.innerHTML = '';\n",
              "          dataTable['output_type'] = 'display_data';\n",
              "          await google.colab.output.renderOutput(dataTable, element);\n",
              "          const docLink = document.createElement('div');\n",
              "          docLink.innerHTML = docLinkHtml;\n",
              "          element.appendChild(docLink);\n",
              "        }\n",
              "      </script>\n",
              "    </div>\n",
              "  </div>\n",
              "  "
            ]
          },
          "metadata": {},
          "execution_count": 15
        }
      ]
    },
    {
      "cell_type": "code",
      "source": [
        "df = df.drop(\"ScheduledDay\", axis=1)\n",
        "df = df.drop(\"AppointmentDay\", axis=1)\n",
        "# df = df.drop(\"Neighbourhood\", axis=1)\n",
        "df = df.drop(\"PatientId\", axis=1)\n",
        "df = df.drop(\"AppointmentID\", axis=1)"
      ],
      "metadata": {
        "id": "z2aTrAo7u3CA"
      },
      "execution_count": null,
      "outputs": []
    },
    {
      "cell_type": "code",
      "source": [
        "df.head()"
      ],
      "metadata": {
        "colab": {
          "base_uri": "https://localhost:8080/",
          "height": 288
        },
        "id": "vUxpQyzsu2_P",
        "outputId": "06418ab5-20f8-4885-b64d-15fc347b80cf"
      },
      "execution_count": null,
      "outputs": [
        {
          "output_type": "execute_result",
          "data": {
            "text/plain": [
              "  Gender  Age  Neighbourhood  Scholarship  Hipertension  Diabetes  Alcoholism  \\\n",
              "0      M   73        ITARARÉ            0             1         1           0   \n",
              "3      M   48     ANDORINHAS            0             0         0           0   \n",
              "4      F   15         BONFIM            0             0         0           0   \n",
              "7      F   47          HORTO            0             0         0           0   \n",
              "8      F   49  MATA DA PRAIA            0             0         0           0   \n",
              "\n",
              "   Handcap  SMS_received No-show  RegistrationDay  AppointmentDayofWeek  \\\n",
              "0        0             0     Yes                4                     0   \n",
              "3        0             1     Yes                1                     2   \n",
              "4        0             0     Yes                3                     4   \n",
              "7        0             0     Yes                3                     0   \n",
              "8        0             1      No                4                     1   \n",
              "\n",
              "   RegistrationHour  MinutesToAppoinment  \n",
              "0                 9               3728.0  \n",
              "3                 8              11011.0  \n",
              "4                 9                848.0  \n",
              "7                 8               5230.0  \n",
              "8                16              24935.0  "
            ],
            "text/html": [
              "\n",
              "  <div id=\"df-c14252bf-3fa4-4112-8af2-e9161ea358f5\">\n",
              "    <div class=\"colab-df-container\">\n",
              "      <div>\n",
              "<style scoped>\n",
              "    .dataframe tbody tr th:only-of-type {\n",
              "        vertical-align: middle;\n",
              "    }\n",
              "\n",
              "    .dataframe tbody tr th {\n",
              "        vertical-align: top;\n",
              "    }\n",
              "\n",
              "    .dataframe thead th {\n",
              "        text-align: right;\n",
              "    }\n",
              "</style>\n",
              "<table border=\"1\" class=\"dataframe\">\n",
              "  <thead>\n",
              "    <tr style=\"text-align: right;\">\n",
              "      <th></th>\n",
              "      <th>Gender</th>\n",
              "      <th>Age</th>\n",
              "      <th>Neighbourhood</th>\n",
              "      <th>Scholarship</th>\n",
              "      <th>Hipertension</th>\n",
              "      <th>Diabetes</th>\n",
              "      <th>Alcoholism</th>\n",
              "      <th>Handcap</th>\n",
              "      <th>SMS_received</th>\n",
              "      <th>No-show</th>\n",
              "      <th>RegistrationDay</th>\n",
              "      <th>AppointmentDayofWeek</th>\n",
              "      <th>RegistrationHour</th>\n",
              "      <th>MinutesToAppoinment</th>\n",
              "    </tr>\n",
              "  </thead>\n",
              "  <tbody>\n",
              "    <tr>\n",
              "      <th>0</th>\n",
              "      <td>M</td>\n",
              "      <td>73</td>\n",
              "      <td>ITARARÉ</td>\n",
              "      <td>0</td>\n",
              "      <td>1</td>\n",
              "      <td>1</td>\n",
              "      <td>0</td>\n",
              "      <td>0</td>\n",
              "      <td>0</td>\n",
              "      <td>Yes</td>\n",
              "      <td>4</td>\n",
              "      <td>0</td>\n",
              "      <td>9</td>\n",
              "      <td>3728.0</td>\n",
              "    </tr>\n",
              "    <tr>\n",
              "      <th>3</th>\n",
              "      <td>M</td>\n",
              "      <td>48</td>\n",
              "      <td>ANDORINHAS</td>\n",
              "      <td>0</td>\n",
              "      <td>0</td>\n",
              "      <td>0</td>\n",
              "      <td>0</td>\n",
              "      <td>0</td>\n",
              "      <td>1</td>\n",
              "      <td>Yes</td>\n",
              "      <td>1</td>\n",
              "      <td>2</td>\n",
              "      <td>8</td>\n",
              "      <td>11011.0</td>\n",
              "    </tr>\n",
              "    <tr>\n",
              "      <th>4</th>\n",
              "      <td>F</td>\n",
              "      <td>15</td>\n",
              "      <td>BONFIM</td>\n",
              "      <td>0</td>\n",
              "      <td>0</td>\n",
              "      <td>0</td>\n",
              "      <td>0</td>\n",
              "      <td>0</td>\n",
              "      <td>0</td>\n",
              "      <td>Yes</td>\n",
              "      <td>3</td>\n",
              "      <td>4</td>\n",
              "      <td>9</td>\n",
              "      <td>848.0</td>\n",
              "    </tr>\n",
              "    <tr>\n",
              "      <th>7</th>\n",
              "      <td>F</td>\n",
              "      <td>47</td>\n",
              "      <td>HORTO</td>\n",
              "      <td>0</td>\n",
              "      <td>0</td>\n",
              "      <td>0</td>\n",
              "      <td>0</td>\n",
              "      <td>0</td>\n",
              "      <td>0</td>\n",
              "      <td>Yes</td>\n",
              "      <td>3</td>\n",
              "      <td>0</td>\n",
              "      <td>8</td>\n",
              "      <td>5230.0</td>\n",
              "    </tr>\n",
              "    <tr>\n",
              "      <th>8</th>\n",
              "      <td>F</td>\n",
              "      <td>49</td>\n",
              "      <td>MATA DA PRAIA</td>\n",
              "      <td>0</td>\n",
              "      <td>0</td>\n",
              "      <td>0</td>\n",
              "      <td>0</td>\n",
              "      <td>0</td>\n",
              "      <td>1</td>\n",
              "      <td>No</td>\n",
              "      <td>4</td>\n",
              "      <td>1</td>\n",
              "      <td>16</td>\n",
              "      <td>24935.0</td>\n",
              "    </tr>\n",
              "  </tbody>\n",
              "</table>\n",
              "</div>\n",
              "      <button class=\"colab-df-convert\" onclick=\"convertToInteractive('df-c14252bf-3fa4-4112-8af2-e9161ea358f5')\"\n",
              "              title=\"Convert this dataframe to an interactive table.\"\n",
              "              style=\"display:none;\">\n",
              "        \n",
              "  <svg xmlns=\"http://www.w3.org/2000/svg\" height=\"24px\"viewBox=\"0 0 24 24\"\n",
              "       width=\"24px\">\n",
              "    <path d=\"M0 0h24v24H0V0z\" fill=\"none\"/>\n",
              "    <path d=\"M18.56 5.44l.94 2.06.94-2.06 2.06-.94-2.06-.94-.94-2.06-.94 2.06-2.06.94zm-11 1L8.5 8.5l.94-2.06 2.06-.94-2.06-.94L8.5 2.5l-.94 2.06-2.06.94zm10 10l.94 2.06.94-2.06 2.06-.94-2.06-.94-.94-2.06-.94 2.06-2.06.94z\"/><path d=\"M17.41 7.96l-1.37-1.37c-.4-.4-.92-.59-1.43-.59-.52 0-1.04.2-1.43.59L10.3 9.45l-7.72 7.72c-.78.78-.78 2.05 0 2.83L4 21.41c.39.39.9.59 1.41.59.51 0 1.02-.2 1.41-.59l7.78-7.78 2.81-2.81c.8-.78.8-2.07 0-2.86zM5.41 20L4 18.59l7.72-7.72 1.47 1.35L5.41 20z\"/>\n",
              "  </svg>\n",
              "      </button>\n",
              "      \n",
              "  <style>\n",
              "    .colab-df-container {\n",
              "      display:flex;\n",
              "      flex-wrap:wrap;\n",
              "      gap: 12px;\n",
              "    }\n",
              "\n",
              "    .colab-df-convert {\n",
              "      background-color: #E8F0FE;\n",
              "      border: none;\n",
              "      border-radius: 50%;\n",
              "      cursor: pointer;\n",
              "      display: none;\n",
              "      fill: #1967D2;\n",
              "      height: 32px;\n",
              "      padding: 0 0 0 0;\n",
              "      width: 32px;\n",
              "    }\n",
              "\n",
              "    .colab-df-convert:hover {\n",
              "      background-color: #E2EBFA;\n",
              "      box-shadow: 0px 1px 2px rgba(60, 64, 67, 0.3), 0px 1px 3px 1px rgba(60, 64, 67, 0.15);\n",
              "      fill: #174EA6;\n",
              "    }\n",
              "\n",
              "    [theme=dark] .colab-df-convert {\n",
              "      background-color: #3B4455;\n",
              "      fill: #D2E3FC;\n",
              "    }\n",
              "\n",
              "    [theme=dark] .colab-df-convert:hover {\n",
              "      background-color: #434B5C;\n",
              "      box-shadow: 0px 1px 3px 1px rgba(0, 0, 0, 0.15);\n",
              "      filter: drop-shadow(0px 1px 2px rgba(0, 0, 0, 0.3));\n",
              "      fill: #FFFFFF;\n",
              "    }\n",
              "  </style>\n",
              "\n",
              "      <script>\n",
              "        const buttonEl =\n",
              "          document.querySelector('#df-c14252bf-3fa4-4112-8af2-e9161ea358f5 button.colab-df-convert');\n",
              "        buttonEl.style.display =\n",
              "          google.colab.kernel.accessAllowed ? 'block' : 'none';\n",
              "\n",
              "        async function convertToInteractive(key) {\n",
              "          const element = document.querySelector('#df-c14252bf-3fa4-4112-8af2-e9161ea358f5');\n",
              "          const dataTable =\n",
              "            await google.colab.kernel.invokeFunction('convertToInteractive',\n",
              "                                                     [key], {});\n",
              "          if (!dataTable) return;\n",
              "\n",
              "          const docLinkHtml = 'Like what you see? Visit the ' +\n",
              "            '<a target=\"_blank\" href=https://colab.research.google.com/notebooks/data_table.ipynb>data table notebook</a>'\n",
              "            + ' to learn more about interactive tables.';\n",
              "          element.innerHTML = '';\n",
              "          dataTable['output_type'] = 'display_data';\n",
              "          await google.colab.output.renderOutput(dataTable, element);\n",
              "          const docLink = document.createElement('div');\n",
              "          docLink.innerHTML = docLinkHtml;\n",
              "          element.appendChild(docLink);\n",
              "        }\n",
              "      </script>\n",
              "    </div>\n",
              "  </div>\n",
              "  "
            ]
          },
          "metadata": {},
          "execution_count": 17
        }
      ]
    },
    {
      "cell_type": "code",
      "source": [
        "gender_onehot = pd.get_dummies(df['Gender'])\n",
        "df = pd.concat([df, gender_onehot], axis=1)\n",
        "df = df.drop(\"Gender\", axis=1)\n",
        "\n",
        "gender_onehot = pd.get_dummies(df['Neighbourhood'])\n",
        "df = pd.concat([df, gender_onehot], axis=1)\n",
        "df = df.drop(\"Neighbourhood\", axis=1)"
      ],
      "metadata": {
        "id": "7Rw1rnqtwpFS"
      },
      "execution_count": null,
      "outputs": []
    },
    {
      "cell_type": "code",
      "source": [
        "label_encoder = LabelEncoder()\n",
        "df[\"No-show\"] = label_encoder.fit_transform(df[\"No-show\"])"
      ],
      "metadata": {
        "id": "rAqSzLcIwpCd"
      },
      "execution_count": null,
      "outputs": []
    },
    {
      "cell_type": "code",
      "source": [
        "from sklearn.preprocessing import StandardScaler\n",
        "mms = StandardScaler()\n",
        "scaled_df = df\n",
        "scaled_df[['Age','RegistrationDay', 'AppointmentDayofWeek', 'RegistrationHour', 'MinutesToAppoinment']] = mms.fit_transform(df[['Age','RegistrationDay', 'AppointmentDayofWeek', 'RegistrationHour', 'MinutesToAppoinment']])\n",
        "# scaled_df[['Age']] = mms.fit_transform(df[['Age']])\n",
        "\n"
      ],
      "metadata": {
        "id": "6pNZ8ogHwo_0"
      },
      "execution_count": null,
      "outputs": []
    },
    {
      "cell_type": "code",
      "source": [
        "scaled_df.head()"
      ],
      "metadata": {
        "colab": {
          "base_uri": "https://localhost:8080/",
          "height": 317
        },
        "id": "vHE6qRjLwo9M",
        "outputId": "7a23ad52-808e-4533-f3fb-50b95134fcbc"
      },
      "execution_count": null,
      "outputs": [
        {
          "output_type": "execute_result",
          "data": {
            "text/plain": [
              "        Age  Scholarship  Hipertension  Diabetes  Alcoholism  Handcap  \\\n",
              "0  1.508594            0             1         1           0        0   \n",
              "3  0.416883            0             0         0           0        0   \n",
              "4 -1.024175            0             0         0           0        0   \n",
              "7  0.373215            0             0         0           0        0   \n",
              "8  0.460552            0             0         0           0        0   \n",
              "\n",
              "   SMS_received  No-show  RegistrationDay  AppointmentDayofWeek  ...  \\\n",
              "0             0        1         1.547296             -1.365445  ...   \n",
              "3             1        1        -0.624805              0.094392  ...   \n",
              "4             0        1         0.823262              1.554229  ...   \n",
              "7             0        1         0.823262             -1.365445  ...   \n",
              "8             1        0         1.547296             -0.635527  ...   \n",
              "\n",
              "   SANTOS REIS  SEGURANÇA DO LAR  SOLON BORGES  SÃO BENEDITO  SÃO CRISTÓVÃO  \\\n",
              "0            0                 0             0             0              0   \n",
              "3            0                 0             0             0              0   \n",
              "4            0                 0             0             0              0   \n",
              "7            0                 0             0             0              0   \n",
              "8            0                 0             0             0              0   \n",
              "\n",
              "   SÃO JOSÉ  SÃO PEDRO  TABUAZEIRO  UNIVERSITÁRIO  VILA RUBIM  \n",
              "0         0          0           0              0           0  \n",
              "3         0          0           0              0           0  \n",
              "4         0          0           0              0           0  \n",
              "7         0          0           0              0           0  \n",
              "8         0          0           0              0           0  \n",
              "\n",
              "[5 rows x 94 columns]"
            ],
            "text/html": [
              "\n",
              "  <div id=\"df-09af8230-c5be-424f-ab99-0ea00c601071\">\n",
              "    <div class=\"colab-df-container\">\n",
              "      <div>\n",
              "<style scoped>\n",
              "    .dataframe tbody tr th:only-of-type {\n",
              "        vertical-align: middle;\n",
              "    }\n",
              "\n",
              "    .dataframe tbody tr th {\n",
              "        vertical-align: top;\n",
              "    }\n",
              "\n",
              "    .dataframe thead th {\n",
              "        text-align: right;\n",
              "    }\n",
              "</style>\n",
              "<table border=\"1\" class=\"dataframe\">\n",
              "  <thead>\n",
              "    <tr style=\"text-align: right;\">\n",
              "      <th></th>\n",
              "      <th>Age</th>\n",
              "      <th>Scholarship</th>\n",
              "      <th>Hipertension</th>\n",
              "      <th>Diabetes</th>\n",
              "      <th>Alcoholism</th>\n",
              "      <th>Handcap</th>\n",
              "      <th>SMS_received</th>\n",
              "      <th>No-show</th>\n",
              "      <th>RegistrationDay</th>\n",
              "      <th>AppointmentDayofWeek</th>\n",
              "      <th>...</th>\n",
              "      <th>SANTOS REIS</th>\n",
              "      <th>SEGURANÇA DO LAR</th>\n",
              "      <th>SOLON BORGES</th>\n",
              "      <th>SÃO BENEDITO</th>\n",
              "      <th>SÃO CRISTÓVÃO</th>\n",
              "      <th>SÃO JOSÉ</th>\n",
              "      <th>SÃO PEDRO</th>\n",
              "      <th>TABUAZEIRO</th>\n",
              "      <th>UNIVERSITÁRIO</th>\n",
              "      <th>VILA RUBIM</th>\n",
              "    </tr>\n",
              "  </thead>\n",
              "  <tbody>\n",
              "    <tr>\n",
              "      <th>0</th>\n",
              "      <td>1.508594</td>\n",
              "      <td>0</td>\n",
              "      <td>1</td>\n",
              "      <td>1</td>\n",
              "      <td>0</td>\n",
              "      <td>0</td>\n",
              "      <td>0</td>\n",
              "      <td>1</td>\n",
              "      <td>1.547296</td>\n",
              "      <td>-1.365445</td>\n",
              "      <td>...</td>\n",
              "      <td>0</td>\n",
              "      <td>0</td>\n",
              "      <td>0</td>\n",
              "      <td>0</td>\n",
              "      <td>0</td>\n",
              "      <td>0</td>\n",
              "      <td>0</td>\n",
              "      <td>0</td>\n",
              "      <td>0</td>\n",
              "      <td>0</td>\n",
              "    </tr>\n",
              "    <tr>\n",
              "      <th>3</th>\n",
              "      <td>0.416883</td>\n",
              "      <td>0</td>\n",
              "      <td>0</td>\n",
              "      <td>0</td>\n",
              "      <td>0</td>\n",
              "      <td>0</td>\n",
              "      <td>1</td>\n",
              "      <td>1</td>\n",
              "      <td>-0.624805</td>\n",
              "      <td>0.094392</td>\n",
              "      <td>...</td>\n",
              "      <td>0</td>\n",
              "      <td>0</td>\n",
              "      <td>0</td>\n",
              "      <td>0</td>\n",
              "      <td>0</td>\n",
              "      <td>0</td>\n",
              "      <td>0</td>\n",
              "      <td>0</td>\n",
              "      <td>0</td>\n",
              "      <td>0</td>\n",
              "    </tr>\n",
              "    <tr>\n",
              "      <th>4</th>\n",
              "      <td>-1.024175</td>\n",
              "      <td>0</td>\n",
              "      <td>0</td>\n",
              "      <td>0</td>\n",
              "      <td>0</td>\n",
              "      <td>0</td>\n",
              "      <td>0</td>\n",
              "      <td>1</td>\n",
              "      <td>0.823262</td>\n",
              "      <td>1.554229</td>\n",
              "      <td>...</td>\n",
              "      <td>0</td>\n",
              "      <td>0</td>\n",
              "      <td>0</td>\n",
              "      <td>0</td>\n",
              "      <td>0</td>\n",
              "      <td>0</td>\n",
              "      <td>0</td>\n",
              "      <td>0</td>\n",
              "      <td>0</td>\n",
              "      <td>0</td>\n",
              "    </tr>\n",
              "    <tr>\n",
              "      <th>7</th>\n",
              "      <td>0.373215</td>\n",
              "      <td>0</td>\n",
              "      <td>0</td>\n",
              "      <td>0</td>\n",
              "      <td>0</td>\n",
              "      <td>0</td>\n",
              "      <td>0</td>\n",
              "      <td>1</td>\n",
              "      <td>0.823262</td>\n",
              "      <td>-1.365445</td>\n",
              "      <td>...</td>\n",
              "      <td>0</td>\n",
              "      <td>0</td>\n",
              "      <td>0</td>\n",
              "      <td>0</td>\n",
              "      <td>0</td>\n",
              "      <td>0</td>\n",
              "      <td>0</td>\n",
              "      <td>0</td>\n",
              "      <td>0</td>\n",
              "      <td>0</td>\n",
              "    </tr>\n",
              "    <tr>\n",
              "      <th>8</th>\n",
              "      <td>0.460552</td>\n",
              "      <td>0</td>\n",
              "      <td>0</td>\n",
              "      <td>0</td>\n",
              "      <td>0</td>\n",
              "      <td>0</td>\n",
              "      <td>1</td>\n",
              "      <td>0</td>\n",
              "      <td>1.547296</td>\n",
              "      <td>-0.635527</td>\n",
              "      <td>...</td>\n",
              "      <td>0</td>\n",
              "      <td>0</td>\n",
              "      <td>0</td>\n",
              "      <td>0</td>\n",
              "      <td>0</td>\n",
              "      <td>0</td>\n",
              "      <td>0</td>\n",
              "      <td>0</td>\n",
              "      <td>0</td>\n",
              "      <td>0</td>\n",
              "    </tr>\n",
              "  </tbody>\n",
              "</table>\n",
              "<p>5 rows × 94 columns</p>\n",
              "</div>\n",
              "      <button class=\"colab-df-convert\" onclick=\"convertToInteractive('df-09af8230-c5be-424f-ab99-0ea00c601071')\"\n",
              "              title=\"Convert this dataframe to an interactive table.\"\n",
              "              style=\"display:none;\">\n",
              "        \n",
              "  <svg xmlns=\"http://www.w3.org/2000/svg\" height=\"24px\"viewBox=\"0 0 24 24\"\n",
              "       width=\"24px\">\n",
              "    <path d=\"M0 0h24v24H0V0z\" fill=\"none\"/>\n",
              "    <path d=\"M18.56 5.44l.94 2.06.94-2.06 2.06-.94-2.06-.94-.94-2.06-.94 2.06-2.06.94zm-11 1L8.5 8.5l.94-2.06 2.06-.94-2.06-.94L8.5 2.5l-.94 2.06-2.06.94zm10 10l.94 2.06.94-2.06 2.06-.94-2.06-.94-.94-2.06-.94 2.06-2.06.94z\"/><path d=\"M17.41 7.96l-1.37-1.37c-.4-.4-.92-.59-1.43-.59-.52 0-1.04.2-1.43.59L10.3 9.45l-7.72 7.72c-.78.78-.78 2.05 0 2.83L4 21.41c.39.39.9.59 1.41.59.51 0 1.02-.2 1.41-.59l7.78-7.78 2.81-2.81c.8-.78.8-2.07 0-2.86zM5.41 20L4 18.59l7.72-7.72 1.47 1.35L5.41 20z\"/>\n",
              "  </svg>\n",
              "      </button>\n",
              "      \n",
              "  <style>\n",
              "    .colab-df-container {\n",
              "      display:flex;\n",
              "      flex-wrap:wrap;\n",
              "      gap: 12px;\n",
              "    }\n",
              "\n",
              "    .colab-df-convert {\n",
              "      background-color: #E8F0FE;\n",
              "      border: none;\n",
              "      border-radius: 50%;\n",
              "      cursor: pointer;\n",
              "      display: none;\n",
              "      fill: #1967D2;\n",
              "      height: 32px;\n",
              "      padding: 0 0 0 0;\n",
              "      width: 32px;\n",
              "    }\n",
              "\n",
              "    .colab-df-convert:hover {\n",
              "      background-color: #E2EBFA;\n",
              "      box-shadow: 0px 1px 2px rgba(60, 64, 67, 0.3), 0px 1px 3px 1px rgba(60, 64, 67, 0.15);\n",
              "      fill: #174EA6;\n",
              "    }\n",
              "\n",
              "    [theme=dark] .colab-df-convert {\n",
              "      background-color: #3B4455;\n",
              "      fill: #D2E3FC;\n",
              "    }\n",
              "\n",
              "    [theme=dark] .colab-df-convert:hover {\n",
              "      background-color: #434B5C;\n",
              "      box-shadow: 0px 1px 3px 1px rgba(0, 0, 0, 0.15);\n",
              "      filter: drop-shadow(0px 1px 2px rgba(0, 0, 0, 0.3));\n",
              "      fill: #FFFFFF;\n",
              "    }\n",
              "  </style>\n",
              "\n",
              "      <script>\n",
              "        const buttonEl =\n",
              "          document.querySelector('#df-09af8230-c5be-424f-ab99-0ea00c601071 button.colab-df-convert');\n",
              "        buttonEl.style.display =\n",
              "          google.colab.kernel.accessAllowed ? 'block' : 'none';\n",
              "\n",
              "        async function convertToInteractive(key) {\n",
              "          const element = document.querySelector('#df-09af8230-c5be-424f-ab99-0ea00c601071');\n",
              "          const dataTable =\n",
              "            await google.colab.kernel.invokeFunction('convertToInteractive',\n",
              "                                                     [key], {});\n",
              "          if (!dataTable) return;\n",
              "\n",
              "          const docLinkHtml = 'Like what you see? Visit the ' +\n",
              "            '<a target=\"_blank\" href=https://colab.research.google.com/notebooks/data_table.ipynb>data table notebook</a>'\n",
              "            + ' to learn more about interactive tables.';\n",
              "          element.innerHTML = '';\n",
              "          dataTable['output_type'] = 'display_data';\n",
              "          await google.colab.output.renderOutput(dataTable, element);\n",
              "          const docLink = document.createElement('div');\n",
              "          docLink.innerHTML = docLinkHtml;\n",
              "          element.appendChild(docLink);\n",
              "        }\n",
              "      </script>\n",
              "    </div>\n",
              "  </div>\n",
              "  "
            ]
          },
          "metadata": {},
          "execution_count": 21
        }
      ]
    },
    {
      "cell_type": "code",
      "source": [
        "df = scaled_df"
      ],
      "metadata": {
        "id": "Qr8VTLNuwo6Y"
      },
      "execution_count": null,
      "outputs": []
    },
    {
      "cell_type": "code",
      "execution_count": null,
      "metadata": {
        "id": "3LkXs0UISvZm"
      },
      "outputs": [],
      "source": [
        "train_df, test_df = train_test_split(df, train_size=0.8, stratify=df[\"No-show\"], random_state=2)\n",
        "train_df, valid_df = train_test_split(train_df, train_size=0.87, stratify=train_df[\"No-show\"], random_state=2)"
      ]
    },
    {
      "cell_type": "code",
      "execution_count": null,
      "metadata": {
        "colab": {
          "base_uri": "https://localhost:8080/"
        },
        "id": "kMso4isHTBme",
        "outputId": "4eafcc74-9a26-4004-ddbd-9352ea6bd943"
      },
      "outputs": [
        {
          "output_type": "stream",
          "name": "stdout",
          "text": [
            "Training:  49961\n",
            "Validation:  7466\n",
            "Test:  14357\n"
          ]
        }
      ],
      "source": [
        "print(\"Training: \", len(train_df))\n",
        "print(\"Validation: \", len(valid_df))\n",
        "print(\"Test: \", len(test_df))"
      ]
    },
    {
      "cell_type": "code",
      "execution_count": null,
      "metadata": {
        "id": "ZZsC3tBrTBjf"
      },
      "outputs": [],
      "source": [
        "features = set(train_df.columns)\n",
        "features.remove('No-show')\n",
        "train_X = train_df[features].copy()\n",
        "validation_X = valid_df[features].copy()\n",
        "test_X = test_df[features].copy()\n",
        "\n",
        "train_y = train_df[\"No-show\"]\n",
        "validation_y = valid_df[\"No-show\"]\n",
        "test_y = test_df[\"No-show\"]\n",
        "\n",
        "train_y = np.asarray(train_y).astype(\"float64\")\n",
        "validation_y = np.asarray(validation_y).astype(\"float64\")\n",
        "test_y = np.asarray(test_y).astype(\"float64\")\n",
        "\n",
        "sm = SMOTE(random_state=42)\n",
        "train_X, train_y = sm.fit_resample(train_X, train_y)"
      ]
    },
    {
      "cell_type": "code",
      "execution_count": null,
      "metadata": {
        "colab": {
          "base_uri": "https://localhost:8080/"
        },
        "id": "U17IpbpZTBge",
        "outputId": "31793a32-9c9e-4baa-994e-338b4efeb376"
      },
      "outputs": [
        {
          "output_type": "stream",
          "name": "stdout",
          "text": [
            "0.5\n",
            "0.7147066702384142\n"
          ]
        }
      ],
      "source": [
        "dummy = DummyClassifier(strategy=\"prior\")\n",
        "dummy.fit(train_X, train_y)\n",
        "print(dummy.score(train_X, train_y))\n",
        "print(dummy.score(validation_X, validation_y))"
      ]
    },
    {
      "cell_type": "code",
      "execution_count": null,
      "metadata": {
        "colab": {
          "base_uri": "https://localhost:8080/"
        },
        "id": "ZIV7QTtpTBd3",
        "outputId": "d00b66d8-b979-4fbe-c216-0816a519b934"
      },
      "outputs": [
        {
          "output_type": "execute_result",
          "data": {
            "text/plain": [
              "array([0., 1.])"
            ]
          },
          "metadata": {},
          "execution_count": 27
        }
      ],
      "source": [
        "np.unique(train_y)"
      ]
    },
    {
      "cell_type": "code",
      "execution_count": null,
      "metadata": {
        "id": "CtxJ-ZnlUqnG"
      },
      "outputs": [],
      "source": [
        "train_X_copy = train_X.copy()\n",
        "train_y_copy = train_y.copy()\n",
        "\n",
        "validation_X_copy = validation_X.copy()\n",
        "validation_y_copy = validation_y.copy()"
      ]
    },
    {
      "cell_type": "code",
      "source": [
        "from sklearn.ensemble import IsolationForest\n",
        "iso = IsolationForest(n_estimators=100, contamination=0.01)\n",
        "iso.fit(train_X_copy)\n",
        "to_remove = iso.predict(train_X_copy)\n",
        "indecies_to_remove = []\n",
        "for i, value in enumerate(to_remove):\n",
        "  if value == -1:\n",
        "    indecies_to_remove.append(i)\n",
        "\n",
        "train_X_copy = train_X_copy.drop(indecies_to_remove)\n",
        "train_y_copy = np.delete(train_y_copy, indecies_to_remove)"
      ],
      "metadata": {
        "colab": {
          "base_uri": "https://localhost:8080/"
        },
        "id": "j0_5FYDqMUqe",
        "outputId": "75361880-3129-4571-cfb2-fbad3b4beab3"
      },
      "execution_count": null,
      "outputs": [
        {
          "output_type": "stream",
          "name": "stderr",
          "text": [
            "/usr/local/lib/python3.9/dist-packages/sklearn/base.py:439: UserWarning: X does not have valid feature names, but IsolationForest was fitted with feature names\n",
            "  warnings.warn(\n"
          ]
        }
      ]
    },
    {
      "cell_type": "code",
      "source": [
        "print(len(train_X), len(train_X_copy))\n",
        "print(len(train_y), len(train_y_copy))"
      ],
      "metadata": {
        "colab": {
          "base_uri": "https://localhost:8080/"
        },
        "id": "ZkgZqe90Otef",
        "outputId": "f2db83b9-26fa-4778-bfaf-6111698da90f"
      },
      "execution_count": null,
      "outputs": [
        {
          "output_type": "stream",
          "name": "stdout",
          "text": [
            "71418 70703\n",
            "71418 70703\n"
          ]
        }
      ]
    },
    {
      "cell_type": "code",
      "source": [
        "knn = Pipeline([\n",
        "    ('predictor', KNeighborsClassifier())\n",
        "])\n",
        "knn_param_grid = {\n",
        "    \"predictor__n_neighbors\": [50, 100, 150]\n",
        "    # \"predictor__n_neighbors\": [x for x in range(10, 100, 10)]\n",
        "\n",
        "}\n",
        "\n",
        "knn_gs = GridSearchCV(knn, knn_param_grid, scoring=\"accuracy\", cv=10)\n",
        "knn_gs.fit(train_X_copy, train_y_copy)\n",
        "knn_gs.best_params_, knn_gs.best_score_\n",
        "\n",
        "knn.set_params(**knn_gs.best_params_)\n",
        "knn.fit(train_X_copy, train_y_copy)\n",
        "print(\"Train Data: \", accuracy_score(train_y_copy, knn.predict(train_X_copy)))\n",
        "print(\"Validation Data: \",accuracy_score(validation_y, knn.predict(validation_X)))"
      ],
      "metadata": {
        "id": "19ncZarMhte_"
      },
      "execution_count": null,
      "outputs": []
    },
    {
      "cell_type": "code",
      "source": [
        "print(knn_gs.best_params_)"
      ],
      "metadata": {
        "id": "RLFaedv0nTBO",
        "colab": {
          "base_uri": "https://localhost:8080/"
        },
        "outputId": "e7c704d4-eb4f-464d-f733-4c38f23b8590"
      },
      "execution_count": null,
      "outputs": [
        {
          "output_type": "stream",
          "name": "stdout",
          "text": [
            "{'predictor__n_neighbors': 50}\n"
          ]
        }
      ]
    },
    {
      "cell_type": "code",
      "execution_count": null,
      "metadata": {
        "id": "ADDyS15HVj-L"
      },
      "outputs": [],
      "source": [
        "from keras.callbacks import EarlyStopping\n",
        "early_stopping = EarlyStopping(monitor='val_loss', patience=10, restore_best_weights=True)\n",
        "\n",
        "def build_nn():\n",
        "    network = Sequential()\n",
        "    network.add(Dense(16, activation=\"relu\", input_shape=(train_X_copy.shape[1],)))\n",
        "    network.add(Dense(32, activation=\"relu\"))\n",
        "    network.add(Dense(32, activation=\"relu\"))\n",
        "    network.add(Dense(16, activation=\"relu\"))\n",
        "    network.add(Dense(1, activation=\"sigmoid\"))\n",
        "    network.compile(optimizer=SGD(lr=0.005), loss=\"binary_crossentropy\", metrics=[\"accuracy\"])\n",
        "    return network\n",
        "\n",
        "model = build_nn()\n",
        "\n",
        "history = model.fit(\n",
        "    train_X_copy,\n",
        "    train_y_copy,\n",
        "    epochs=100,\n",
        "    validation_data=(validation_X, validation_y),\n",
        "    callbacks=[early_stopping]\n",
        "    )"
      ]
    },
    {
      "cell_type": "code",
      "source": [
        "fig, ax = plt.subplots(figsize=(10, 5))\n",
        "ax.set_xlabel('Epoch')\n",
        "\n",
        "# Plot the training and validation accuracy over time\n",
        "ax.plot(history.history['accuracy'], label='Training Accuracy', color='tab:blue')\n",
        "ax.plot(history.history['val_accuracy'], label='Validation Accuracy', color='tab:green')\n",
        "ax.set_ylabel('Accuracy')\n",
        "ax.set_ylim([0.5, 0.8])  # Set y-axis limits for accuracy\n",
        "ax.legend(loc='upper left')\n",
        "\n",
        "# Add a second y-axis for the training and validation loss\n",
        "ax2 = ax.twinx()\n",
        "ax2.plot(history.history['loss'], label='Training Loss', color='tab:red')\n",
        "ax2.plot(history.history['val_loss'], label='Validation Loss', color='tab:orange')\n",
        "ax2.set_ylabel('Loss')\n",
        "ax2.set_ylim([0.5, 0.8])  # Set y-axis limits for loss\n",
        "ax2.legend(loc='upper right')\n",
        "\n",
        "plt.axvline(x=2, color='cyan', linestyle='--')\n",
        "plt.axvline(x=12, color='lime', linestyle='--')\n",
        "plt.axvline(x=20, color='violet', linestyle='--')\n",
        "\n",
        "# Display the plot\n",
        "plt.title('Training and Validation Metrics')\n",
        "plt.show()"
      ],
      "metadata": {
        "colab": {
          "base_uri": "https://localhost:8080/",
          "height": 487
        },
        "id": "zYDbQpKEFvCh",
        "outputId": "69e0da46-befc-4a60-ed3b-9c2429ca08d1"
      },
      "execution_count": null,
      "outputs": [
        {
          "output_type": "display_data",
          "data": {
            "text/plain": [
              "<Figure size 1000x500 with 2 Axes>"
            ],
            "image/png": "[encoded data removed]"
          },
          "metadata": {}
        }
      ]
    },
    {
      "cell_type": "code",
      "source": [
        "y_pred = model.predict(test_X)\n",
        "y_pred = np.argmax(y_pred, axis=1) # Convert probabilities to class labels\n",
        "\n",
        "# Create confusion matrix\n",
        "cm = confusion_matrix(test_y, y_pred)\n",
        "print(cm)\n",
        "\n",
        "# Plot confusion matrix\n",
        "plt.imshow(cm, interpolation='nearest', cmap=plt.cm.Blues)\n",
        "plt.title('Confusion Matrix')\n",
        "plt.colorbar()\n",
        "tick_marks = np.arange(2)\n",
        "plt.xticks(tick_marks, [0, 1], rotation=45)\n",
        "plt.yticks(tick_marks, [0, 1])\n",
        "plt.xlabel('Predicted Label')\n",
        "plt.ylabel('True Label')\n",
        "plt.show()"
      ],
      "metadata": {
        "colab": {
          "base_uri": "https://localhost:8080/",
          "height": 526
        },
        "id": "Drjq0p6vZB2n",
        "outputId": "4779e005-c7ed-4175-e496-aba0cecc8284"
      },
      "execution_count": null,
      "outputs": [
        {
          "output_type": "stream",
          "name": "stdout",
          "text": [
            "449/449 [==============================] - 1s 2ms/step\n",
            "[[10262     0]\n",
            " [ 4095     0]]\n"
          ]
        },
        {
          "output_type": "display_data",
          "data": {
            "text/plain": [
              "<Figure size 640x480 with 2 Axes>"
            ],
            "image/png": "[encoded data removed]"
          },
          "metadata": {}
        }
      ]
    },
    {
      "cell_type": "code",
      "source": [
        "from sklearn.metrics import precision_score, recall_score, f1_score, accuracy_score\n",
        "\n",
        "# Make predictions on test set\n",
        "y_pred = model.predict(test_X)\n",
        "y_pred = np.argmax(y_pred, axis=1) # Convert probabilities to class labels\n",
        "\n",
        "# Compute precision, recall, and F1-score\n",
        "precision = precision_score(test_y, y_pred, average='macro')\n",
        "recall = recall_score(test_y, y_pred, average='macro')\n",
        "f1score = f1_score(test_y, y_pred, average='macro')\n",
        "acc = accuracy_score(test_y, y_pred)\n",
        "\n",
        "# Print results\n",
        "print('Accuaracy:', acc)\n",
        "print('Precision:', precision)\n",
        "print('Recall:', recall)\n",
        "print('F1-score:', f1score)"
      ],
      "metadata": {
        "colab": {
          "base_uri": "https://localhost:8080/"
        },
        "id": "b6W5GVfaaO6k",
        "outputId": "429c6149-1ebf-42ab-d22f-4da1c33125cb"
      },
      "execution_count": null,
      "outputs": [
        {
          "output_type": "stream",
          "name": "stdout",
          "text": [
            "449/449 [==============================] - 1s 2ms/step\n",
            "Accuaracy: 0.7147732813261823\n",
            "Precision: 0.35738664066309117\n",
            "Recall: 0.5\n",
            "F1-score: 0.41683252772249074\n"
          ]
        },
        {
          "output_type": "stream",
          "name": "stderr",
          "text": [
            "/usr/local/lib/python3.9/dist-packages/sklearn/metrics/_classification.py:1344: UndefinedMetricWarning: Precision is ill-defined and being set to 0.0 in labels with no predicted samples. Use `zero_division` parameter to control this behavior.\n",
            "  _warn_prf(average, modifier, msg_start, len(result))\n"
          ]
        }
      ]
    },
    {
      "cell_type": "code",
      "source": [
        "sfrom sklearn.neural_network import MLPClassifier\n",
        "clf = MLPClassifier(solver='adam', alpha=1e-08,hidden_layer_sizes=(8,),activation='logistic', random_state=1,batch_size='auto',shuffle=True,max_fun=15000)\n",
        "clf = clf.fit(train_X_copy, train_y_copy)\n",
        "print(\"Train Data: \", accuracy_score(train_y_copy, clf.predict(train_X_copy)))\n",
        "print(\"Validation Data: \",accuracy_score(validation_y, clf.predict(validation_X)))"
      ],
      "metadata": {
        "colab": {
          "base_uri": "https://localhost:8080/"
        },
        "id": "SFnjbA27BIz3",
        "outputId": "339062b7-a9e6-4db2-9815-3a1028c6fc07"
      },
      "execution_count": null,
      "outputs": [
        {
          "output_type": "stream",
          "name": "stdout",
          "text": [
            "Train Data:  0.6432683195903993\n",
            "Validation Data:  0.6255022769890168\n"
          ]
        }
      ]
    },
    {
      "cell_type": "code",
      "execution_count": null,
      "metadata": {
        "id": "5OAASlO7VtLX"
      },
      "outputs": [],
      "source": [
        "from sklearn.linear_model import LogisticRegression\n",
        "from sklearn.naive_bayes import GaussianNB\n",
        "from sklearn.tree import DecisionTreeClassifier\n",
        "from sklearn.svm import SVC"
      ]
    },
    {
      "cell_type": "code",
      "source": [
        "lr = Pipeline([\n",
        "    ('predictor', GaussianNB())\n",
        "])\n",
        "lr_param_grid = {\n",
        "    'predictor__var_smoothing': np.logspace(0,-9, num=100)\n",
        "}\n",
        "\n",
        "lr_gs = GridSearchCV(lr, lr_param_grid, scoring=\"accuracy\", cv=10)\n",
        "lr_gs.fit(train_X_copy, train_y_copy)\n",
        "lr_gs.best_params_, lr_gs.best_score_\n",
        "\n",
        "lr.set_params(**lr_gs.best_params_)\n",
        "lr.fit(train_X_copy, train_y_copy)\n",
        "print(\"Train Data: \", accuracy_score(train_y_copy, lr.predict(train_X_copy)))\n",
        "print(\"Validation Data: \",accuracy_score(validation_y, lr.predict(validation_X)))"
      ],
      "metadata": {
        "colab": {
          "base_uri": "https://localhost:8080/"
        },
        "id": "_FdMkUPsB7fS",
        "outputId": "324043be-ec3c-414e-8675-66ce5958a48d"
      },
      "execution_count": null,
      "outputs": [
        {
          "output_type": "stream",
          "name": "stdout",
          "text": [
            "Train Data:  0.5643042020847772\n",
            "Validation Data:  0.41561746584516474\n"
          ]
        }
      ]
    },
    {
      "cell_type": "code",
      "source": [
        "lr = Pipeline([\n",
        "    ('predictor', DecisionTreeClassifier())\n",
        "])\n",
        "lr_param_grid = {\n",
        "    \"predictor__max_depth\": [10, 15, 20]\n",
        "}\n",
        "\n",
        "lr_gs = GridSearchCV(lr, lr_param_grid, scoring=\"accuracy\", cv=10)\n",
        "lr_gs.fit(train_X_copy, train_y_copy)\n",
        "lr_gs.best_params_, lr_gs.best_score_\n",
        "print(lr_gs.best_params_)\n",
        "lr.set_params(**lr_gs.best_params_)\n",
        "lr.fit(train_X_copy, train_y_copy)\n",
        "print(\"Train Data: \", accuracy_score(train_y_copy, lr.predict(train_X_copy)))\n",
        "print(\"Validation Data: \",accuracy_score(validation_y, lr.predict(validation_X)))"
      ],
      "metadata": {
        "colab": {
          "base_uri": "https://localhost:8080/"
        },
        "id": "eQVi-hJyE-cd",
        "outputId": "54e86b4b-dc10-4fea-966e-085ab19fa767"
      },
      "execution_count": null,
      "outputs": [
        {
          "output_type": "stream",
          "name": "stdout",
          "text": [
            "{'predictor__max_depth': 20}\n",
            "Train Data:  0.7840119938333593\n",
            "Validation Data:  0.65148673988749\n"
          ]
        }
      ]
    },
    {
      "cell_type": "code",
      "source": [
        "lr = Pipeline([\n",
        "    ('predictor', SVC(cache_size=7000))\n",
        "])\n",
        "lr_param_grid = {}\n",
        "\n",
        "lr_gs = GridSearchCV(lr, lr_param_grid, scoring=\"accuracy\", cv=10)\n",
        "lr_gs.fit(train_X_copy[:2500], train_y_copy[:2500])\n",
        "lr_gs.best_params_, lr_gs.best_score_\n",
        "print(lr_gs.best_params_)\n",
        "lr.set_params(**lr_gs.best_params_)\n",
        "lr.fit(train_X_copy[:2500], train_y_copy[:2500])\n",
        "print(\"Train Data: \", accuracy_score(train_y_copy, lr.predict(train_X_copy)))\n",
        "print(\"Validation Data: \",accuracy_score(validation_y, lr.predict(validation_X)))"
      ],
      "metadata": {
        "id": "7lBflCwfFx92",
        "colab": {
          "base_uri": "https://localhost:8080/"
        },
        "outputId": "2d020ff9-92e7-42a7-eedd-f7d882aa4fc1"
      },
      "execution_count": null,
      "outputs": [
        {
          "output_type": "stream",
          "name": "stdout",
          "text": [
            "{}\n",
            "Train Data:  0.49874828507984104\n",
            "Validation Data:  0.7149745512992232\n"
          ]
        }
      ]
    },
    {
      "cell_type": "code",
      "source": [
        "import joblib\n",
        "joblib.dump(knn, \"knn.joblib\")"
      ],
      "metadata": {
        "id": "jKD-qmFNHj1k",
        "colab": {
          "base_uri": "https://localhost:8080/"
        },
        "outputId": "7585a401-6853-4aed-c48f-02c640ba8dfe"
      },
      "execution_count": null,
      "outputs": [
        {
          "output_type": "execute_result",
          "data": {
            "text/plain": [
              "['knn.joblib']"
            ]
          },
          "metadata": {},
          "execution_count": 49
        }
      ]
    },
    {
      "cell_type": "code",
      "source": [],
      "metadata": {
        "id": "OTMtS3Ajdyw5"
      },
      "execution_count": null,
      "outputs": []
    }
  ],
  "metadata": {
    "colab": {
      "machine_shape": "hm",
      "provenance": []
    },
    "gpuClass": "standard",
    "kernelspec": {
      "display_name": "Python 3",
      "name": "python3"
    },
    "language_info": {
      "name": "python"
    }
  },
  "nbformat": 4,
  "nbformat_minor": 0
}